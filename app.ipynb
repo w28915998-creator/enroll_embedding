{
 "cells": [
  {
   "cell_type": "code",
   "execution_count": 3,
   "id": "743bd0f3-4c93-4367-9c52-e25c01ba6d1a",
   "metadata": {},
   "outputs": [
    {
     "ename": "ModuleNotFoundError",
     "evalue": "No module named 'utils'",
     "output_type": "error",
     "traceback": [
      "\u001b[1;31m---------------------------------------------------------------------------\u001b[0m",
      "\u001b[1;31mModuleNotFoundError\u001b[0m                       Traceback (most recent call last)",
      "Cell \u001b[1;32mIn[3], line 2\u001b[0m\n\u001b[0;32m      1\u001b[0m \u001b[38;5;28;01mfrom\u001b[39;00m\u001b[38;5;250m \u001b[39m\u001b[38;5;21;01mflask\u001b[39;00m\u001b[38;5;250m \u001b[39m\u001b[38;5;28;01mimport\u001b[39;00m Flask, render_template, request, jsonify\n\u001b[1;32m----> 2\u001b[0m \u001b[38;5;28;01mfrom\u001b[39;00m\u001b[38;5;250m \u001b[39m\u001b[38;5;21;01mutils\u001b[39;00m\u001b[38;5;250m \u001b[39m\u001b[38;5;28;01mimport\u001b[39;00m enroll_user, check_user, get_enrolled_users\n\u001b[0;32m      3\u001b[0m \u001b[38;5;28;01mimport\u001b[39;00m\u001b[38;5;250m \u001b[39m\u001b[38;5;21;01mthreading\u001b[39;00m\n",
      "\u001b[1;31mModuleNotFoundError\u001b[0m: No module named 'utils'"
     ]
    }
   ],
   "source": [
    "from flask import Flask, render_template, request, jsonify\n",
    "from utils import enroll_user, check_user, get_enrolled_users\n",
    "import threading"
   ]
  },
  {
   "cell_type": "code",
   "execution_count": null,
   "id": "6d5f0a49-d38b-4db9-a7b9-2485b876ec52",
   "metadata": {},
   "outputs": [],
   "source": [
    "from flask import Flask, render_template, request, jsonify\n",
    "from utils import enroll_user, check_user, get_enrolled_users\n",
    "\n",
    "app = Flask(__name__)\n",
    "\n",
    "@app.route(\"/\")\n",
    "def index():\n",
    "    users = get_enrolled_users()\n",
    "    return render_template(\"index.html\", users=users)\n",
    "\n",
    "@app.route(\"/enroll\", methods=[\"POST\"])\n",
    "def enroll():\n",
    "    data = request.get_json()\n",
    "    name = data.get(\"name\")\n",
    "\n",
    "    # Prevent duplicate names\n",
    "    users = get_enrolled_users()\n",
    "    if name in users:\n",
    "        return jsonify({\"success\": False, \"message\": f\"User '{name}' already enrolled.\"})\n",
    "\n",
    "    success, message = enroll_user(name)\n",
    "    return jsonify({\"success\": success, \"message\": message})\n",
    "\n",
    "@app.route(\"/verify\", methods=[\"POST\"])\n",
    "def verify():\n",
    "    success, message, best_name, score = check_user()\n",
    "    return jsonify({\"success\": success, \"message\": message})\n",
    "\n",
    "if __name__ == \"__main__\":\n",
    "    app.run(debug=True)\n"
   ]
  },
  {
   "cell_type": "code",
   "execution_count": 1,
   "id": "eb4a1fcf-4990-4a49-a151-dc7db85ceda5",
   "metadata": {},
   "outputs": [
    {
     "name": "stdout",
     "output_type": "stream",
     "text": [
      "asttokens==3.0.0\n",
      "blinker==1.9.0\n",
      "certifi==2025.8.3\n",
      "cffi==2.0.0\n",
      "charset-normalizer==3.4.3\n",
      "click==8.3.0\n",
      "colorama==0.4.6\n",
      "comm==0.2.3\n",
      "debugpy==1.8.17\n",
      "decorator==5.2.1\n",
      "exceptiongroup==1.3.0\n",
      "executing==2.2.1\n",
      "filelock==3.19.1\n",
      "Flask==2.3.3\n",
      "fsspec==2025.9.0\n",
      "huggingface-hub==0.35.0\n",
      "HyperPyYAML==1.2.2\n",
      "idna==3.10\n",
      "ipykernel==6.30.1\n",
      "ipython==8.37.0\n",
      "itsdangerous==2.2.0\n",
      "jedi==0.19.2\n",
      "Jinja2==3.1.6\n",
      "joblib==1.5.2\n",
      "jupyter_client==8.6.3\n",
      "jupyter_core==5.8.1\n",
      "MarkupSafe==3.0.2\n",
      "matplotlib-inline==0.1.7\n",
      "mpmath==1.3.0\n",
      "nest-asyncio==1.6.0\n",
      "networkx==3.4.2\n",
      "numpy==1.24.3\n",
      "packaging==25.0\n",
      "parso==0.8.5\n",
      "platformdirs==4.4.0\n",
      "prompt_toolkit==3.0.52\n",
      "psutil==7.1.0\n",
      "pure_eval==0.2.3\n",
      "pycparser==2.23\n",
      "Pygments==2.19.2\n",
      "python-dateutil==2.9.0.post0\n",
      "pywin32==311\n",
      "PyYAML==6.0.2\n",
      "pyzmq==27.1.0\n",
      "requests==2.32.5\n",
      "ruamel.yaml==0.18.15\n",
      "ruamel.yaml.clib==0.2.12\n",
      "scipy==1.11.3\n",
      "sentencepiece==0.2.1\n",
      "six==1.17.0\n",
      "sounddevice==0.4.6\n",
      "soundfile==0.12.1\n",
      "speechbrain==0.5.15\n",
      "stack-data==0.6.3\n",
      "sympy==1.14.0\n",
      "torch==2.0.1\n",
      "torchaudio==2.0.2\n",
      "tornado==6.5.2\n",
      "tqdm==4.67.1\n",
      "traitlets==5.14.3\n",
      "typing_extensions==4.15.0\n",
      "urllib3==2.5.0\n",
      "wcwidth==0.2.13\n",
      "Werkzeug==3.1.3\n"
     ]
    }
   ],
   "source": [
    "!pip freeze"
   ]
  },
  {
   "cell_type": "code",
   "execution_count": 2,
   "id": "a77d246a-480f-471e-bb67-21abb527b26c",
   "metadata": {},
   "outputs": [],
   "source": [
    "!pip freeze > requirements2.txt\n"
   ]
  },
  {
   "cell_type": "code",
   "execution_count": null,
   "id": "24d1728b-d1fe-4591-a093-80c212ada48f",
   "metadata": {},
   "outputs": [],
   "source": []
  }
 ],
 "metadata": {
  "kernelspec": {
   "display_name": "Py3.10",
   "language": "python",
   "name": "py310"
  },
  "language_info": {
   "codemirror_mode": {
    "name": "ipython",
    "version": 3
   },
   "file_extension": ".py",
   "mimetype": "text/x-python",
   "name": "python",
   "nbconvert_exporter": "python",
   "pygments_lexer": "ipython3",
   "version": "3.10.10"
  }
 },
 "nbformat": 4,
 "nbformat_minor": 5
}
